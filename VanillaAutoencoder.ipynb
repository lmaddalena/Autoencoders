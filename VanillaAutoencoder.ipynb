{
 "cells": [
  {
   "cell_type": "markdown",
   "source": [
    "# Reconstructing handwritten digits using an autoencoder\n",
    "### Ref. Deep Learning with TensorFlow 2 and Keras ch.9\n",
    "In the Vanilla autoencoder the number of neurons in the hidden layer are less than the number of neurons in the input (or output) layer.\n",
    "This result in producing a bottleneck effect in the flow of information in the netowrok.\n",
    "The hidden layer in between is also colled \"bottleneck layer\".\n",
    "Learning in the autoencoder consists of developing a compact representation of the input signal at the hidden layer so that the output layer can faithfully reproduce the original input."
   ],
   "metadata": {}
  },
  {
   "cell_type": "code",
   "execution_count": 52,
   "source": [
    "import numpy as np\n",
    "import tensorflow as tf\n",
    "import tensorflow.keras as K\n",
    "import matplotlib.pyplot as plt\n"
   ],
   "outputs": [],
   "metadata": {}
  },
  {
   "cell_type": "markdown",
   "source": [
    "## Define Custom Layers"
   ],
   "metadata": {}
  },
  {
   "cell_type": "markdown",
   "source": [
    "### Encoder\n",
    "The `Encoder` takes in the input and generates the hidden or the bottleneck layer as output."
   ],
   "metadata": {}
  },
  {
   "cell_type": "code",
   "execution_count": 53,
   "source": [
    "# Create a child class from Keras Layer\n",
    "class Encoder(K.layers.Layer):\n",
    "    def __init__(self, hidden_dim) :\n",
    "        super(Encoder, self).__init__()\n",
    "        self.hidden_layer = K.layers.Dense(units=hidden_dim, activation=tf.nn.relu)\n",
    "\n",
    "    def call(self, input_features):\n",
    "        activation = self.hidden_layer(input_features)\n",
    "        return activation"
   ],
   "outputs": [],
   "metadata": {}
  },
  {
   "cell_type": "markdown",
   "source": [
    "### Decoder\n",
    "The `Decoder` takes in the output from the `Encoder` and then passes it through a fully connectes neural network.\n",
    "The aim is to be able to reconstruct the input to the `Encoder`."
   ],
   "metadata": {}
  },
  {
   "cell_type": "code",
   "execution_count": 54,
   "source": [
    "# Create a child class from Keras Layer\n",
    "class Decoder (K.layers.Layer) :\n",
    "    def __init__(self, hidden_dim, original_dim) :\n",
    "        super(Decoder, self).__init__()\n",
    "        self.output_layer = K.layers.Dense(units=original_dim, activation=tf.nn.relu)\n",
    "\n",
    "    def call (self, encoded):\n",
    "        activation = self.output_layer(encoded)\n",
    "        return activation"
   ],
   "outputs": [],
   "metadata": {}
  },
  {
   "cell_type": "markdown",
   "source": [
    "### Autoencoder\n",
    "Now that we have both `Encoder` and `Decoder` defined we use the `tensorflow.Keras.Model` object to build the autoencoder model."
   ],
   "metadata": {}
  },
  {
   "cell_type": "code",
   "execution_count": 55,
   "source": [
    "class Autoencoder(K.Model):\n",
    "    def __init__(self, hidden_dim, original_dim):\n",
    "        super(Autoencoder, self).__init__()\n",
    "        self.loss = []\n",
    "        self.encoder = Encoder(hidden_dim=hidden_dim)\n",
    "        self.decoder = Decoder(hidden_dim=hidden_dim, original_dim = original_dim)\n",
    "\n",
    "    def call(self, input_features):\n",
    "        encoded = self.encoder(input_features)\n",
    "        reconstructed = self.decoder(encoded)\n",
    "        return reconstructed"
   ],
   "outputs": [],
   "metadata": {}
  },
  {
   "cell_type": "markdown",
   "source": [
    "### Setting up some hyperparameter"
   ],
   "metadata": {}
  },
  {
   "cell_type": "code",
   "execution_count": 56,
   "source": [
    "np.random.seed(11)      # set the seed for reporoducibility\n",
    "tf.random.set_seed(11)  # set the seed for reporoducibility\n",
    "batch_size = 256\n",
    "max_epochs = 50\n",
    "learning_rate = 1e-3\n",
    "momentum = 8e-1\n",
    "hidden_dim = 128\n",
    "original_dim = 784"
   ],
   "outputs": [],
   "metadata": {}
  },
  {
   "cell_type": "markdown",
   "source": [
    "### Read the MNIST dataset"
   ],
   "metadata": {}
  },
  {
   "cell_type": "code",
   "execution_count": 57,
   "source": [
    "(x_train, _), (x_test, _) = K.datasets.mnist.load_data() # labels not used, Autoencoders learn via unsupervised learning\n",
    "x_train = x_train / 255.0\n",
    "x_test = x_test / 255.0\n",
    "x_train = x_train.astype(np.float32)\n",
    "x_test = x_test.astype(np.float32)\n",
    "x_train = np.reshape(x_train, (x_train.shape[0], 784))  # reshape the tensor from 2D to 1D\n",
    "x_test = np.reshape(x_test, (x_test.shape[0], 784))     # reshape the tensor from 2D to 1D\n",
    "trainig_dataset = tf.data.Dataset.from_tensor_slices(x_train).batch(batch_size)\n"
   ],
   "outputs": [],
   "metadata": {}
  },
  {
   "cell_type": "markdown",
   "source": [
    "### Instantiate the Autoencoder and define the loss and optimizers to be used for trainig"
   ],
   "metadata": {}
  },
  {
   "cell_type": "code",
   "execution_count": 58,
   "source": [
    "autoencoder = Autoencoder(hidden_dim, original_dim)\n",
    "opt = tf.keras.optimizers.Adam(learning_rate=learning_rate)\n",
    "#opt = tf.optimizers.SGD(learning_rate=learning_rate, momentum=momentum)\n",
    "\n",
    "def loss(preds, real):\n",
    "    return tf.reduce_mean(tf.square(tf.subtract(preds, real)))"
   ],
   "outputs": [],
   "metadata": {}
  },
  {
   "cell_type": "markdown",
   "source": [
    "### Define the train loop\n",
    "Instead of using the auto-training loop, for our custom autoencoder model we will define a custom trainig, We use `tf.GradientTape` to record the gradients as they are calculated and implicity apply the gradients to all trainable variables of our model"
   ],
   "metadata": {}
  },
  {
   "cell_type": "code",
   "execution_count": 59,
   "source": [
    "def train(loss, model, opt, original):\n",
    "    with tf.GradientTape() as tape:\n",
    "        preds = model(original)\n",
    "        reconstruction_error = loss(preds, original)\n",
    "    \n",
    "    gradients = tape.gradient(reconstruction_error, model.trainable_variables)\n",
    "    gradient_variables = zip(gradients, model.trainable_variables)    \n",
    "    opt.apply_gradients(gradient_variables)\n",
    "    \n",
    "    return reconstruction_error"
   ],
   "outputs": [],
   "metadata": {}
  },
  {
   "cell_type": "code",
   "execution_count": 60,
   "source": [
    "def train_loop(model, opt, loss, dataset, epochs=20):\n",
    "    for epoch in range(epochs):\n",
    "        epoch_loss = 0\n",
    "        for step, batch_features in enumerate(dataset):\n",
    "            loss_values = train(loss, model, opt, batch_features)\n",
    "            epoch_loss += loss_values\n",
    "        \n",
    "        model.loss.append(epoch_loss)\n",
    "        print('Epoch {}/{}. Loss: {}'.format(epoch + 1, epochs, epoch_loss.numpy()))"
   ],
   "outputs": [],
   "metadata": {}
  },
  {
   "cell_type": "markdown",
   "source": [
    "### Train the Autoencoder"
   ],
   "metadata": {}
  },
  {
   "cell_type": "code",
   "execution_count": 61,
   "source": [
    "train_loop(autoencoder, opt, loss, trainig_dataset, epochs=max_epochs)\n",
    "\n",
    "# or, using auto-trainig loop\n",
    "#autoencoder.compile(loss='mse', optimizer=opt)\n",
    "#loss = autoencoder.fit(\n",
    "#    x_train, \n",
    "#    x_train, \n",
    "#    validation_data = (x_test, x_test), \n",
    "#    epochs = max_epochs, \n",
    "#    batch_size = batch_size)"
   ],
   "outputs": [
    {
     "output_type": "stream",
     "name": "stdout",
     "text": [
      "Epoch 1/50. Loss: 6.228333950042725\n",
      "Epoch 2/50. Loss: 2.239034652709961\n",
      "Epoch 3/50. Loss: 1.7826430797576904\n",
      "Epoch 4/50. Loss: 1.5789154767990112\n",
      "Epoch 5/50. Loss: 1.4671926498413086\n",
      "Epoch 6/50. Loss: 1.3905701637268066\n",
      "Epoch 7/50. Loss: 1.3329699039459229\n",
      "Epoch 8/50. Loss: 1.2884517908096313\n",
      "Epoch 9/50. Loss: 1.2575781345367432\n",
      "Epoch 10/50. Loss: 1.2369012832641602\n",
      "Epoch 11/50. Loss: 1.2226951122283936\n",
      "Epoch 12/50. Loss: 1.2097374200820923\n",
      "Epoch 13/50. Loss: 1.1913330554962158\n",
      "Epoch 14/50. Loss: 1.1808971166610718\n",
      "Epoch 15/50. Loss: 1.174067735671997\n",
      "Epoch 16/50. Loss: 1.1686102151870728\n",
      "Epoch 17/50. Loss: 1.1633137464523315\n",
      "Epoch 18/50. Loss: 1.155277132987976\n",
      "Epoch 19/50. Loss: 1.147902488708496\n",
      "Epoch 20/50. Loss: 1.1434133052825928\n",
      "Epoch 21/50. Loss: 1.1401448249816895\n",
      "Epoch 22/50. Loss: 1.1373167037963867\n",
      "Epoch 23/50. Loss: 1.134840726852417\n",
      "Epoch 24/50. Loss: 1.1325809955596924\n",
      "Epoch 25/50. Loss: 1.1305521726608276\n",
      "Epoch 26/50. Loss: 1.1287014484405518\n",
      "Epoch 27/50. Loss: 1.126997470855713\n",
      "Epoch 28/50. Loss: 1.1254454851150513\n",
      "Epoch 29/50. Loss: 1.124004602432251\n",
      "Epoch 30/50. Loss: 1.1226253509521484\n",
      "Epoch 31/50. Loss: 1.1213459968566895\n",
      "Epoch 32/50. Loss: 1.1201778650283813\n",
      "Epoch 33/50. Loss: 1.1190605163574219\n",
      "Epoch 34/50. Loss: 1.1179848909378052\n",
      "Epoch 35/50. Loss: 1.1169919967651367\n",
      "Epoch 36/50. Loss: 1.1160566806793213\n",
      "Epoch 37/50. Loss: 1.1151840686798096\n",
      "Epoch 38/50. Loss: 1.1143383979797363\n",
      "Epoch 39/50. Loss: 1.113541841506958\n",
      "Epoch 40/50. Loss: 1.1127883195877075\n",
      "Epoch 41/50. Loss: 1.1120754480361938\n",
      "Epoch 42/50. Loss: 1.111384630203247\n",
      "Epoch 43/50. Loss: 1.1107367277145386\n",
      "Epoch 44/50. Loss: 1.1101136207580566\n",
      "Epoch 45/50. Loss: 1.1095318794250488\n",
      "Epoch 46/50. Loss: 1.1090081930160522\n",
      "Epoch 47/50. Loss: 1.1084628105163574\n",
      "Epoch 48/50. Loss: 1.1079597473144531\n",
      "Epoch 49/50. Loss: 1.1074901819229126\n",
      "Epoch 50/50. Loss: 1.106979250907898\n"
     ]
    }
   ],
   "metadata": {}
  },
  {
   "cell_type": "markdown",
   "source": [
    "### Plot the loss"
   ],
   "metadata": {}
  },
  {
   "cell_type": "code",
   "execution_count": 62,
   "source": [
    "plt.plot(range(max_epochs), autoencoder.loss)\n",
    "plt.xlabel('Epochs')\n",
    "plt.ylabel('Loss')\n",
    "plt.show()"
   ],
   "outputs": [
    {
     "output_type": "display_data",
     "data": {
      "image/png": "[encoded data removed]",
      "text/plain": [
       "<Figure size 432x288 with 1 Axes>"
      ]
     },
     "metadata": {
      "needs_background": "light"
     }
    }
   ],
   "metadata": {}
  },
  {
   "cell_type": "markdown",
   "source": [
    "### Display reconstruced images"
   ],
   "metadata": {}
  },
  {
   "cell_type": "code",
   "execution_count": 63,
   "source": [
    "number = 10 # how many digits we will display\n",
    "plt.figure(figsize=(20, 4))\n",
    "for index in range(number):\n",
    "    # display original\n",
    "    ax = plt.subplot(2, number, index + 1)\n",
    "    plt.imshow(x_test[index].reshape(28, 28), cmap='gray')\n",
    "    ax.get_xaxis().set_visible(False)\n",
    "    ax.get_yaxis().set_visible(False)\n",
    "\n",
    "    # display reconstruction\n",
    "    ax = plt.subplot(2, number, index + 1 + number)\n",
    "    plt.imshow(autoencoder(x_test)[index].numpy().reshape(28, 28), cmap='gray')\n",
    "    ax.get_xaxis().set_visible(False)\n",
    "    ax.get_yaxis().set_visible(False)\n",
    "\n",
    "plt.show()"
   ],
   "outputs": [
    {
     "output_type": "display_data",
     "data": {
      "image/png": "[encoded data removed]",
      "text/plain": [
       "<Figure size 1440x288 with 20 Axes>"
      ]
     },
     "metadata": {
      "needs_background": "light"
     }
    }
   ],
   "metadata": {}
  }
 ],
 "metadata": {
  "orig_nbformat": 4,
  "language_info": {
   "name": "python",
   "version": "3.7.3",
   "mimetype": "text/x-python",
   "codemirror_mode": {
    "name": "ipython",
    "version": 3
   },
   "pygments_lexer": "ipython3",
   "nbconvert_exporter": "python",
   "file_extension": ".py"
  },
  "kernelspec": {
   "name": "python3",
   "display_name": "Python 3.7.3 64-bit ('venvML': venv)"
  },
  "interpreter": {
   "hash": "61e27811106b0eff094ccf4c65f60fdc343a4cd46af11344d5f306dadca4da6f"
  }
 },
 "nbformat": 4,
 "nbformat_minor": 2
}